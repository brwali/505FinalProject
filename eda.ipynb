{
 "cells": [
  {
   "metadata": {},
   "cell_type": "markdown",
   "source": [
    "# Cursive English Handwritten Character Classification: Exploratory Data Analysis\n",
    "# ------------------------------------------------------------------------------\n",
    "\n",
    "### Notebook Overview:\n",
    "This notebook will be used to explore and understand the cursive handwriting dataset derived from the CVL database. We will be:\n",
    "1. Previewing Dataset\n",
    "2. Check Data Quality and Clean\n",
    "3. Class Distribution Analysis\n",
    "4. Visual Explorations\n",
    "5. Statistical Summaries\n",
    "6. Preliminary Feature or Embedding Analysis\n",
    "7. EDA Conclusion"
   ],
   "id": "9e04ae75fe53d5cf"
  },
  {
   "metadata": {},
   "cell_type": "code",
   "outputs": [],
   "execution_count": null,
   "source": [
    "%pip install torchsummary pytest\n",
    "%pip install pandas matplotlib seaborn pillow torchvision scikit-learn"
   ],
   "id": "c064a551ce49da14"
  },
  {
   "metadata": {},
   "cell_type": "code",
   "outputs": [],
   "execution_count": null,
   "source": [
    "import torch\n",
    "import numpy as np\n",
    "import pandas as pd\n",
    "import matplotlib.pyplot as plt\n",
    "import seaborn as sns\n",
    "import torchvision\n",
    "import torchvision.transforms as transforms\n",
    "from PIL import Image\n",
    "\n",
    "import torch.nn as nn\n",
    "import torch.optim as optim\n",
    "from torchsummary import summary\n",
    "from sklearn.metrics import confusion_matrix, classification_report\n",
    "from importlib import reload\n",
    "\n",
    "# Checking if CUDA is available\n",
    "flag_cuda = torch.cuda.is_available()\n",
    "\n",
    "if flag_cuda:\n",
    "    print(\"Using GPU\")\n",
    "else:\n",
    "    print(\"Using CPU\")"
   ],
   "id": "b349fbab8da8d94c"
  }
 ],
 "metadata": {
  "kernelspec": {
   "name": "python3",
   "language": "python",
   "display_name": "Python 3 (ipykernel)"
  }
 },
 "nbformat": 5,
 "nbformat_minor": 9
}
