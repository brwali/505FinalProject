{
 "cells": [
  {
   "cell_type": "markdown",
   "metadata": {},
   "source": [
    "# Set up Torch"
   ]
  },
  {
   "cell_type": "code",
   "execution_count": 13,
   "metadata": {},
   "outputs": [
    {
     "name": "stdout",
     "output_type": "stream",
     "text": [
      "Using GPU\n"
     ]
    }
   ],
   "source": [
    "import torch\n",
    "import numpy as np\n",
    "import pandas as pd\n",
    "import matplotlib.pyplot as plt\n",
    "import seaborn as sns\n",
    "import torchvision\n",
    "import torchvision.transforms as transforms\n",
    "from PIL import Image\n",
    "\n",
    "import torch.nn as nn\n",
    "import torch.optim as optim\n",
    "from torchsummary import summary\n",
    "from sklearn.metrics import confusion_matrix, classification_report\n",
    "from importlib import reload\n",
    "\n",
    "# Checking if CUDA is available\n",
    "flag_cuda = torch.cuda.is_available()\n",
    "device = torch.device(\"cuda\" if torch.cuda.is_available() else \"cpu\")\n",
    "if flag_cuda:\n",
    "    print(\"Using GPU\")\n",
    "else:\n",
    "    print(\"Using CPU\")"
   ]
  },
  {
   "cell_type": "markdown",
   "metadata": {},
   "source": [
    "# Create the Loaders"
   ]
  },
  {
   "cell_type": "code",
   "execution_count": null,
   "metadata": {},
   "outputs": [
    {
     "name": "stdout",
     "output_type": "stream",
     "text": [
      "Done creating loaders\n",
      "Epoch 1/12 Train Loss 4.0306\n",
      "Accuracy: 22.83%\n",
      "Epoch 2/12 Train Loss 3.0284\n",
      "Accuracy: 28.16%\n",
      "Epoch 3/12 Train Loss 2.6730\n",
      "Accuracy: 34.05%\n",
      "Epoch 4/12 Train Loss 2.4297\n",
      "Accuracy: 38.05%\n",
      "Epoch 5/12 Train Loss 2.2490\n",
      "Accuracy: 41.10%\n",
      "Epoch 6/12 Train Loss 2.0795\n",
      "Accuracy: 43.63%\n",
      "Epoch 7/12 Train Loss 1.9560\n",
      "Accuracy: 45.25%\n",
      "Epoch 8/12 Train Loss 1.8619\n",
      "Accuracy: 47.15%\n",
      "Epoch 9/12 Train Loss 1.7859\n",
      "Accuracy: 47.84%\n",
      "Epoch 10/12 Train Loss 1.7144\n",
      "Accuracy: 49.51%\n",
      "Epoch 11/12 Train Loss 1.6353\n",
      "Accuracy: 51.24%\n",
      "Epoch 12/12 Train Loss 1.5820\n",
      "Accuracy: 52.45%\n"
     ]
    }
   ],
   "source": [
    "import words_helper as wp\n",
    "from words_helper import createLoaders, BaselineCNN, CursiveGenerator, trainNet, trainCursiveNet\n",
    "\n",
    "# Load data\n",
    "classes, train_loader, valid_loader, test_loader, label_dict = wp.createLoaders(batch_size=64)\n",
    "\n",
    "# Train classifier\n",
    "clf = BaselineCNN(num_classes=len(classes))\n",
    "trainNet(clf, train_loader, valid_loader, label_dict, epochs=12)\n"
   ]
  }
 ],
 "metadata": {
  "kernelspec": {
   "display_name": "torch",
   "language": "python",
   "name": "python3"
  },
  "language_info": {
   "codemirror_mode": {
    "name": "ipython",
    "version": 3
   },
   "file_extension": ".py",
   "mimetype": "text/x-python",
   "name": "python",
   "nbconvert_exporter": "python",
   "pygments_lexer": "ipython3",
   "version": "3.9.21"
  }
 },
 "nbformat": 4,
 "nbformat_minor": 2
}
