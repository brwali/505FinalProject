{
 "cells": [
  {
   "cell_type": "markdown",
   "metadata": {},
   "source": [
    "## Cursive English Handwritten Character Classification\n",
    "### Problem Statement\n",
    "- Develop neural network model for accurate classification of cursive English handwritten characters\n",
    "### Motivation for Neural Network\n",
    "- OCR applications in digitizing documents\n",
    "- Automated form processing / accessibility tools\n",
    "- Lack of cursive knowledge for younger generation / non-native English speakers\n",
    "### Dataset Overview\n",
    "- CVL Database [1]\n",
    "- Seven different texts handwritten by 310 individual writers\n",
    "- Cursive handwriting in multiple different styles\n",
    "- Must separate German text from dataset\n",
    "\n",
    "[1] Kleber, F., Fiel, S., Diem, M., & Sablatnig, R. (2018). CVL Database - An Off-line Database for Writer Retrieval, Writer Identification and Word Spotting [Data set]. Zenodo. https://doi.org/10.5281/zenodo.1492267"
   ]
  },
  {
   "cell_type": "markdown",
   "metadata": {},
   "source": [
    "# Set up Torch"
   ]
  },
  {
   "cell_type": "code",
   "execution_count": 13,
   "metadata": {},
   "outputs": [
    {
     "name": "stdout",
     "output_type": "stream",
     "text": [
      "Using GPU\n"
     ]
    }
   ],
   "source": [
    "import torch\n",
    "import numpy as np\n",
    "import pandas as pd\n",
    "import matplotlib.pyplot as plt\n",
    "import seaborn as sns\n",
    "import torchvision\n",
    "import torchvision.transforms as transforms\n",
    "from PIL import Image\n",
    "\n",
    "import torch.nn as nn\n",
    "import torch.optim as optim\n",
    "from torchsummary import summary\n",
    "from sklearn.metrics import confusion_matrix, classification_report\n",
    "from importlib import reload\n",
    "\n",
    "# Checking if CUDA is available\n",
    "flag_cuda = torch.cuda.is_available()\n",
    "device = torch.device(\"cuda\" if torch.cuda.is_available() else \"cpu\")\n",
    "if flag_cuda:\n",
    "    print(\"Using GPU\")\n",
    "else:\n",
    "    print(\"Using CPU\")"
   ]
  },
  {
   "cell_type": "markdown",
   "metadata": {},
   "source": [
    "# Inputs and Outputs\n",
    "## Inputs\n",
    "* Gray-scaled, normalized, 775 by 120 images of cursive words\n",
    "## Outputs\n",
    "* Labels of the words inputted\n",
    "# Evaluation Plan\n",
    "* The model's performance will be assessed using:\n",
    "* Accuracy as the primary metric.\n",
    "* Precision, Recall, and F1-score to measure class-wise performance.\n",
    "* Training and Validation Loss to monitor learning and overfitting."
   ]
  },
  {
   "cell_type": "markdown",
   "metadata": {},
   "source": [
    "# Create the Loaders"
   ]
  },
  {
   "cell_type": "code",
   "execution_count": 1,
   "metadata": {},
   "outputs": [
    {
     "name": "stdout",
     "output_type": "stream",
     "text": [
      "Done creating loaders\n",
      "Epoch 1/12 Train Loss 3.6855\n",
      "Accuracy: 27.12%\n",
      "Macro Precision: 0.1258\n",
      "Macro Recall: 0.1118\n",
      "Macro F1-Score: 0.0951\n",
      "Epoch 2/12 Train Loss 2.6837\n",
      "Accuracy: 34.25%\n",
      "Macro Precision: 0.1767\n",
      "Macro Recall: 0.1593\n",
      "Macro F1-Score: 0.1444\n",
      "Epoch 3/12 Train Loss 2.3029\n",
      "Accuracy: 41.19%\n",
      "Macro Precision: 0.2307\n",
      "Macro Recall: 0.1996\n",
      "Macro F1-Score: 0.1892\n",
      "Epoch 4/12 Train Loss 2.0608\n",
      "Accuracy: 45.47%\n",
      "Macro Precision: 0.2677\n",
      "Macro Recall: 0.2304\n",
      "Macro F1-Score: 0.2223\n",
      "Epoch 5/12 Train Loss 1.8844\n",
      "Accuracy: 48.21%\n",
      "Macro Precision: 0.2881\n",
      "Macro Recall: 0.2564\n",
      "Macro F1-Score: 0.2498\n",
      "Epoch 6/12 Train Loss 1.7509\n",
      "Accuracy: 51.43%\n",
      "Macro Precision: 0.3042\n",
      "Macro Recall: 0.2750\n",
      "Macro F1-Score: 0.2694\n",
      "Epoch 7/12 Train Loss 1.6429\n",
      "Accuracy: 52.15%\n",
      "Macro Precision: 0.3230\n",
      "Macro Recall: 0.2806\n",
      "Macro F1-Score: 0.2766\n",
      "Epoch 8/12 Train Loss 1.5418\n",
      "Accuracy: 55.02%\n",
      "Macro Precision: 0.3544\n",
      "Macro Recall: 0.3067\n",
      "Macro F1-Score: 0.3036\n",
      "Epoch 9/12 Train Loss 1.4618\n",
      "Accuracy: 56.12%\n",
      "Macro Precision: 0.3636\n",
      "Macro Recall: 0.3151\n",
      "Macro F1-Score: 0.3146\n",
      "Epoch 10/12 Train Loss 1.3864\n",
      "Accuracy: 57.87%\n",
      "Macro Precision: 0.3690\n",
      "Macro Recall: 0.3264\n",
      "Macro F1-Score: 0.3243\n",
      "Epoch 11/12 Train Loss 1.3261\n",
      "Accuracy: 59.55%\n",
      "Macro Precision: 0.3786\n",
      "Macro Recall: 0.3452\n",
      "Macro F1-Score: 0.3420\n",
      "Epoch 12/12 Train Loss 1.2711\n",
      "Accuracy: 60.12%\n",
      "Macro Precision: 0.3873\n",
      "Macro Recall: 0.3529\n",
      "Macro F1-Score: 0.3512\n"
     ]
    }
   ],
   "source": [
    "import words_helper as wp\n",
    "from words_helper import createLoaders, BaselineCNN, CursiveGenerator, trainNet, trainCursiveNet\n",
    "\n",
    "# Load data\n",
    "classes, train_loader, valid_loader, test_loader, label_dict = wp.createLoaders(batch_size=32)\n",
    "\n",
    "# Train classifier\n",
    "clf = BaselineCNN(num_classes=len(classes))\n",
    "trainNet(clf, train_loader, valid_loader, label_dict, epochs=12)\n"
   ]
  },
  {
   "cell_type": "markdown",
   "metadata": {},
   "source": [
    "# Prior Work\n",
    "* None of our team members have done prior work training a model to recognize cursive handwritting "
   ]
  }
 ],
 "metadata": {
  "kernelspec": {
   "display_name": "torch",
   "language": "python",
   "name": "python3"
  },
  "language_info": {
   "codemirror_mode": {
    "name": "ipython",
    "version": 3
   },
   "file_extension": ".py",
   "mimetype": "text/x-python",
   "name": "python",
   "nbconvert_exporter": "python",
   "pygments_lexer": "ipython3",
   "version": "3.9.21"
  }
 },
 "nbformat": 4,
 "nbformat_minor": 2
}
