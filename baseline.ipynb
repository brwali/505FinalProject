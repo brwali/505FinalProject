{
 "cells": [
  {
   "cell_type": "markdown",
   "metadata": {},
   "source": [
    "## Summarizing Problem, Motivation, and Dataset\n",
    "### Problem Statement\n",
    "- Develop neural network model for accurate classification of cursive English handwritten characters\n",
    "### Motivation for Neural Network\n",
    "- OCR applications in digitizing documents\n",
    "- Automated form processing / accessibility tools\n",
    "- Lack of cursive knowledge for younger generation / non-native English speakers\n",
    "### Dataset Overview\n",
    "- CVL Database [1]\n",
    "- Seven different texts handwritten by 310 individual writers\n",
    "- Cursive handwriting in multiple different styles\n",
    "- Must separate German text from dataset\n",
    "\n",
    "[1] Kleber, F., Fiel, S., Diem, M., & Sablatnig, R. (2018). CVL Database - An Off-line Database for Writer Retrieval, Writer Identification and Word Spotting [Data set]. Zenodo. https://doi.org/10.5281/zenodo.1492267"
   ]
  },
  {
   "cell_type": "markdown",
   "metadata": {},
   "source": [
    "# Set up Torch"
   ]
  },
  {
   "cell_type": "code",
   "execution_count": 13,
   "metadata": {},
   "outputs": [
    {
     "name": "stdout",
     "output_type": "stream",
     "text": [
      "Using GPU\n"
     ]
    }
   ],
   "source": [
    "import torch\n",
    "import numpy as np\n",
    "import pandas as pd\n",
    "import matplotlib.pyplot as plt\n",
    "import seaborn as sns\n",
    "import torchvision\n",
    "import torchvision.transforms as transforms\n",
    "from PIL import Image\n",
    "\n",
    "import torch.nn as nn\n",
    "import torch.optim as optim\n",
    "from torchsummary import summary\n",
    "from sklearn.metrics import confusion_matrix, classification_report\n",
    "from importlib import reload\n",
    "\n",
    "# Checking if CUDA is available\n",
    "flag_cuda = torch.cuda.is_available()\n",
    "device = torch.device(\"cuda\" if torch.cuda.is_available() else \"cpu\")\n",
    "if flag_cuda:\n",
    "    print(\"Using GPU\")\n",
    "else:\n",
    "    print(\"Using CPU\")"
   ]
  },
  {
   "cell_type": "markdown",
   "metadata": {},
   "source": [
    "# Create the Loaders"
   ]
  },
  {
   "cell_type": "code",
   "execution_count": 1,
   "metadata": {},
   "outputs": [
    {
     "name": "stdout",
     "output_type": "stream",
     "text": [
      "Done creating loaders\n",
      "Epoch 1/12 Train Loss 3.5513\n",
      "Accuracy: 28.28%\n",
      "Epoch 2/12 Train Loss 2.4517\n",
      "Accuracy: 42.36%\n",
      "Epoch 3/12 Train Loss 1.9372\n",
      "Accuracy: 51.30%\n",
      "Epoch 4/12 Train Loss 1.6437\n",
      "Accuracy: 54.58%\n",
      "Epoch 5/12 Train Loss 1.4598\n",
      "Accuracy: 56.74%\n",
      "Epoch 6/12 Train Loss 1.3284\n",
      "Accuracy: 60.49%\n",
      "Epoch 7/12 Train Loss 1.2129\n",
      "Accuracy: 63.62%\n",
      "Epoch 8/12 Train Loss 1.1181\n",
      "Accuracy: 64.36%\n",
      "Epoch 9/12 Train Loss 1.0356\n",
      "Accuracy: 65.45%\n",
      "Epoch 10/12 Train Loss 0.9719\n",
      "Accuracy: 68.04%\n",
      "Epoch 11/12 Train Loss 0.9133\n",
      "Accuracy: 69.31%\n",
      "Epoch 12/12 Train Loss 0.8619\n",
      "Accuracy: 70.06%\n"
     ]
    }
   ],
   "source": [
    "import words_helper as wp\n",
    "from words_helper import createLoaders, BaselineCNN, CursiveGenerator, trainNet, trainCursiveNet\n",
    "\n",
    "# Load data\n",
    "classes, train_loader, valid_loader, test_loader, label_dict = wp.createLoaders(batch_size=32)\n",
    "\n",
    "# Train classifier\n",
    "clf = BaselineCNN(num_classes=len(classes))\n",
    "trainNet(clf, train_loader, valid_loader, label_dict, epochs=12)\n"
   ]
  }
 ],
 "metadata": {
  "kernelspec": {
   "display_name": "torch",
   "language": "python",
   "name": "python3"
  },
  "language_info": {
   "codemirror_mode": {
    "name": "ipython",
    "version": 3
   },
   "file_extension": ".py",
   "mimetype": "text/x-python",
   "name": "python",
   "nbconvert_exporter": "python",
   "pygments_lexer": "ipython3",
   "version": "3.9.21"
  }
 },
 "nbformat": 4,
 "nbformat_minor": 2
}
